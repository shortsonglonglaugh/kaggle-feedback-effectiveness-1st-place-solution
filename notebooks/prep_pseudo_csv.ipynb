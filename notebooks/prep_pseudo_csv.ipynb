{
 "cells": [
  {
   "cell_type": "code",
   "execution_count": null,
   "id": "404080f2-75df-4960-bf6b-55f441812872",
   "metadata": {},
   "outputs": [],
   "source": [
    "import pandas as pd\n",
    "import numpy as np"
   ]
  },
  {
   "cell_type": "code",
   "execution_count": null,
   "id": "0ff2c2da-d0f9-4334-ac76-0d43c943273d",
   "metadata": {},
   "outputs": [],
   "source": [
    "label_cols = [\"Adequate\", \"Effective\", \"Ineffective\"]"
   ]
  },
  {
   "cell_type": "code",
   "execution_count": null,
   "id": "93276f7d-c074-4f76-aa4c-a06cf6f28007",
   "metadata": {},
   "outputs": [],
   "source": [
    "folds = [\n",
    "  # 0,\n",
    "  #   1,\n",
    "  #    2,\n",
    "  #    3,\n",
    "  #     4,\n",
    "    \"ff\"\n",
    "]\n",
    "\n",
    "for FOLD in folds:\n",
    "    df = pd.read_csv(\"../data/train_folded.csv\")\n",
    "    df_old = pd.read_csv(\"../data/old_competition_data.csv\")\n",
    "    df_old[\"discourse_type_essay\"] = df_old.groupby(\"essay_id\")[\"discourse_type\"].transform(lambda x: \" \".join(x)).values\n",
    "    ps = []\n",
    "    for seed in range(1,2):\n",
    "        if FOLD == \"ff\":\n",
    "            df_pseudo = pd.read_csv(f\"../data/pseudo_140_ff_raw.csv\")\n",
    "        else:\n",
    "            df_pseudo = pd.read_csv(f\"../data/pseudo_140_fold_{FOLD}_raw.csv\")\n",
    "        ps.append(df_pseudo[label_cols])\n",
    "\n",
    "    p = np.mean(ps, axis=0)\n",
    "\n",
    "    df_pseudo[label_cols] = p\n",
    "\n",
    "    df_pseudo[\"fold\"] = -1\n",
    "    \n",
    "    print(p.mean(axis=0))\n",
    "    \n",
    "    df_pseudo = df_pseudo.rename(columns={k: \"discourse_effectiveness_\"+k for k in label_cols})\n",
    "    \n",
    "    y = np.zeros((len(df), 3))\n",
    "\n",
    "    for ii, jj in enumerate([label_cols.index(x) for x in df[\"discourse_effectiveness\"].values]):\n",
    "        y[ii,jj] = 1\n",
    "        \n",
    "    for i, l in enumerate(label_cols):\n",
    "        df[\"discourse_effectiveness_\"+l] = y[:,i]\n",
    "        \n",
    "    df_pseudo = df_old.merge(df_pseudo, left_on=\"discourse_id\", right_on=\"discourse_id\", how=\"left\")\n",
    "    \n",
    "    df_pseudo = pd.concat([df_pseudo, df], axis=0)\n",
    "    \n",
    "    # df_pseudo.to_csv(f\"../data/pseudo_140_fold_{FOLD}.csv\", index=False)"
   ]
  },
  {
   "cell_type": "code",
   "execution_count": null,
   "id": "7b0bbe2d-73d4-4643-a890-87dd1861b9f8",
   "metadata": {},
   "outputs": [],
   "source": []
  }
 ],
 "metadata": {
  "kernelspec": {
   "display_name": "Python 3 (ipykernel)",
   "language": "python",
   "name": "python3"
  },
  "language_info": {
   "codemirror_mode": {
    "name": "ipython",
    "version": 3
   },
   "file_extension": ".py",
   "mimetype": "text/x-python",
   "name": "python",
   "nbconvert_exporter": "python",
   "pygments_lexer": "ipython3",
   "version": "3.8.10"
  }
 },
 "nbformat": 4,
 "nbformat_minor": 5
}
