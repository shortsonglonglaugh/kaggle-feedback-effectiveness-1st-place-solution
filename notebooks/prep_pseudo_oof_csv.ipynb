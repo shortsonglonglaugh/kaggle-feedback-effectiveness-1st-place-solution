{
 "cells": [
  {
   "cell_type": "code",
   "execution_count": null,
   "id": "404080f2-75df-4960-bf6b-55f441812872",
   "metadata": {},
   "outputs": [],
   "source": [
    "import pandas as pd\n",
    "import numpy as np\n",
    "from sklearn.metrics import log_loss"
   ]
  },
  {
   "cell_type": "code",
   "execution_count": null,
   "id": "0ff2c2da-d0f9-4334-ac76-0d43c943273d",
   "metadata": {},
   "outputs": [],
   "source": [
    "label_cols = [\"Adequate\", \"Effective\", \"Ineffective\"]"
   ]
  },
  {
   "cell_type": "code",
   "execution_count": null,
   "id": "3e116380-1d43-4d45-a46f-6aef6a9f4ae8",
   "metadata": {},
   "outputs": [],
   "source": [
    "df = pd.read_csv(\"../data/train_folded.csv\")\n",
    "oof = pd.read_csv(\"../data/lgb_162_cv.csv\").set_index(\"discourse_id\")\n",
    "oof = oof.loc[df.discourse_id]\n",
    "oof = oof[[\"new_Adequate\", \"new_Effective\", \"new_Ineffective\"]].values\n",
    "\n",
    "y = np.zeros((len(df), 3))\n",
    "\n",
    "for ii, jj in enumerate([label_cols.index(x) for x in df[\"discourse_effectiveness\"].values]):\n",
    "    y[ii,jj] = 1\n",
    "    \n",
    "log_loss(y, oof)"
   ]
  },
  {
   "cell_type": "code",
   "execution_count": null,
   "id": "42d9da3a-f206-4933-9667-00e5b52ce6e7",
   "metadata": {},
   "outputs": [],
   "source": [
    "for i, l in enumerate(label_cols):\n",
    "    df[\"discourse_effectiveness_\"+l] = oof[:,i]"
   ]
  },
  {
   "cell_type": "code",
   "execution_count": null,
   "id": "32c27961-ccd4-44b9-bef5-aa301b075947",
   "metadata": {},
   "outputs": [],
   "source": [
    "folds = [\n",
    "    \"ff\"\n",
    "]\n",
    "\n",
    "for FOLD in folds:\n",
    "    df = pd.read_csv(\"../data/train_folded.csv\")\n",
    "    df_old = pd.read_csv(\"../data/old_competition_data.csv\")\n",
    "    df_old[\"discourse_type_essay\"] = df_old.groupby(\"essay_id\")[\"discourse_type\"].transform(lambda x: \" \".join(x)).values\n",
    "    ps = []\n",
    "    for seed in range(1,2):\n",
    "        if FOLD == \"ff\":\n",
    "            df_pseudo = pd.read_csv(f\"../data/pseudo_162_ff_raw.csv\")\n",
    "        ps.append(df_pseudo[label_cols])\n",
    "\n",
    "    p = np.mean(ps, axis=0)\n",
    "\n",
    "    df_pseudo[label_cols] = p\n",
    "\n",
    "    df_pseudo[\"fold\"] = -1\n",
    "    \n",
    "    print(p.mean(axis=0))\n",
    "    \n",
    "    df_pseudo = df_pseudo.rename(columns={k: \"discourse_effectiveness_\"+k for k in label_cols})\n",
    "        \n",
    "    df_pseudo = df_old.merge(df_pseudo, left_on=\"discourse_id\", right_on=\"discourse_id\", how=\"left\")\n",
    "    \n",
    "    if FOLD != \"ff\":\n",
    "        df = df[df.fold==FOLD]\n",
    "    df_pseudo = pd.concat([df_pseudo, df], axis=0)\n",
    "    \n",
    "    df_pseudo.to_csv(f\"../data/pseudoold_oof_164_fold_{FOLD}.csv\", index=False)"
   ]
  },
  {
   "cell_type": "code",
   "execution_count": null,
   "id": "559b4634-0078-40bc-bb76-2be54096143a",
   "metadata": {},
   "outputs": [],
   "source": []
  }
 ],
 "metadata": {
  "kernelspec": {
   "display_name": "Python 3 (ipykernel)",
   "language": "python",
   "name": "python3"
  },
  "language_info": {
   "codemirror_mode": {
    "name": "ipython",
    "version": 3
   },
   "file_extension": ".py",
   "mimetype": "text/x-python",
   "name": "python",
   "nbconvert_exporter": "python",
   "pygments_lexer": "ipython3",
   "version": "3.8.10"
  },
  "vscode": {
   "interpreter": {
    "hash": "df0893f56f349688326838aaeea0de204df53a132722cbd565e54b24a8fec5f6"
   }
  }
 },
 "nbformat": 4,
 "nbformat_minor": 5
}
